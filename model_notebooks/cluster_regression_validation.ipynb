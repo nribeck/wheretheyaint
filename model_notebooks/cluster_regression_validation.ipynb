{
 "cells": [
  {
   "cell_type": "code",
   "execution_count": 1,
   "metadata": {
    "collapsed": true
   },
   "outputs": [],
   "source": [
    "from sqlalchemy import create_engine\n",
    "from sqlalchemy_utils import database_exists, create_database\n",
    "import psycopg2\n",
    "import pandas as pd\n",
    "import numpy as np\n",
    "from matplotlib import pyplot as plt\n",
    "from itertools import izip\n",
    "from scipy import stats\n",
    "from sklearn.linear_model import LinearRegression\n",
    "import seaborn as sns\n",
    "\n",
    "%matplotlib inline"
   ]
  },
  {
   "cell_type": "code",
   "execution_count": 2,
   "metadata": {
    "collapsed": false
   },
   "outputs": [
    {
     "name": "stdout",
     "output_type": "stream",
     "text": [
      "postgresql://ribeck:@localhost/statcast\n"
     ]
    }
   ],
   "source": [
    "#connect to database\n",
    "dbname = 'statcast'\n",
    "username = 'ribeck'\n",
    "pswd = ''\n",
    "\n",
    "engine = create_engine('postgresql://%s:%s@localhost/%s'%(username,pswd,dbname))\n",
    "print engine.url\n",
    "\n",
    "con = None\n",
    "con = psycopg2.connect(database = dbname, user = username, host='localhost', password=pswd)"
   ]
  },
  {
   "cell_type": "code",
   "execution_count": 3,
   "metadata": {
    "collapsed": true
   },
   "outputs": [],
   "source": [
    "def bin_lookup_flat(v_query, a_query, v_range, a_range, num_edges):\n",
    "    v_min, v_max = v_range\n",
    "    v_binsize = (v_max - v_min)/(num_edges - 1.)\n",
    "    \n",
    "    a_min, a_max = a_range\n",
    "    a_binsize = (a_max - a_min)/(num_edges - 1.)\n",
    "    \n",
    "    v_bin = int(np.floor((v_query - v_min)/v_binsize))\n",
    "    a_bin = int(np.floor((a_query - a_min)/a_binsize))\n",
    "    \n",
    "    return v_bin * (num_edges - 1) + a_bin"
   ]
  },
  {
   "cell_type": "code",
   "execution_count": 4,
   "metadata": {
    "collapsed": true
   },
   "outputs": [],
   "source": [
    "def classify_batted_ball(hit_speed, hit_angle, v_range, a_range, num_edges):\n",
    "    #use these lines if you want to import the previous cluster definitions\n",
    "    #make sure the old files haven't been over-written by the above cell\n",
    "    kmeans_labels = np.load(\"kmeans_labels.npy\")\n",
    "    labels_indexes = np.load(\"labels_indexes.npy\")\n",
    "    \n",
    "    bin_flat = bin_lookup_flat(hit_speed, hit_angle, v_range, a_range, num_edges)\n",
    "\n",
    "    ball_type = kmeans_labels[np.where(labels_indexes == bin_flat)][0]\n",
    "\n",
    "    return ball_type"
   ]
  },
  {
   "cell_type": "code",
   "execution_count": 5,
   "metadata": {
    "collapsed": false
   },
   "outputs": [],
   "source": [
    "#join fangraphs tables and qualifying-players-query on player names\n",
    "#gets total balls in play and speed rating and pull% for each player with >= min_bip BIP\n",
    "\n",
    "min_bip = 100\n",
    "sql_query = \"\"\"\n",
    "select s.player_name, s.total_bip, f.spd, fb.pull from\n",
    "(select player_name, count(*) as total_bip from statcast_data_table where hit_speed != 0 group by player_name having count(*)> %d ) as s\n",
    "join fangraphs_data_table as f on s.player_name=f.name\n",
    "join fangraphs_bb_data_table as fb on s.player_name=fb.name\n",
    "group by s.player_name, s.total_bip, f.spd, fb.pull order by s.total_bip desc;\n",
    "\"\"\" % min_bip\n",
    "qualifying_players = pd.read_sql_query(sql_query, con)"
   ]
  },
  {
   "cell_type": "code",
   "execution_count": 6,
   "metadata": {
    "collapsed": false
   },
   "outputs": [
    {
     "data": {
      "text/html": [
       "<div>\n",
       "<table border=\"1\" class=\"dataframe\">\n",
       "  <thead>\n",
       "    <tr style=\"text-align: right;\">\n",
       "      <th></th>\n",
       "      <th>player_name</th>\n",
       "      <th>total_bip</th>\n",
       "      <th>spd</th>\n",
       "      <th>pull</th>\n",
       "    </tr>\n",
       "  </thead>\n",
       "  <tbody>\n",
       "    <tr>\n",
       "      <th>0</th>\n",
       "      <td>Jose Altuve</td>\n",
       "      <td>697</td>\n",
       "      <td>5.9</td>\n",
       "      <td>0.442</td>\n",
       "    </tr>\n",
       "    <tr>\n",
       "      <th>1</th>\n",
       "      <td>Ian Kinsler</td>\n",
       "      <td>642</td>\n",
       "      <td>5.6</td>\n",
       "      <td>0.423</td>\n",
       "    </tr>\n",
       "    <tr>\n",
       "      <th>2</th>\n",
       "      <td>Alcides Escobar</td>\n",
       "      <td>640</td>\n",
       "      <td>5.8</td>\n",
       "      <td>0.334</td>\n",
       "    </tr>\n",
       "    <tr>\n",
       "      <th>3</th>\n",
       "      <td>Kyle Seager</td>\n",
       "      <td>638</td>\n",
       "      <td>3.0</td>\n",
       "      <td>0.427</td>\n",
       "    </tr>\n",
       "    <tr>\n",
       "      <th>4</th>\n",
       "      <td>Adrian Beltre</td>\n",
       "      <td>631</td>\n",
       "      <td>3.1</td>\n",
       "      <td>0.397</td>\n",
       "    </tr>\n",
       "  </tbody>\n",
       "</table>\n",
       "</div>"
      ],
      "text/plain": [
       "       player_name  total_bip  spd   pull\n",
       "0      Jose Altuve        697  5.9  0.442\n",
       "1      Ian Kinsler        642  5.6  0.423\n",
       "2  Alcides Escobar        640  5.8  0.334\n",
       "3      Kyle Seager        638  3.0  0.427\n",
       "4    Adrian Beltre        631  3.1  0.397"
      ]
     },
     "execution_count": 6,
     "metadata": {},
     "output_type": "execute_result"
    }
   ],
   "source": [
    "qualifying_players.head()"
   ]
  },
  {
   "cell_type": "code",
   "execution_count": 7,
   "metadata": {
    "collapsed": true
   },
   "outputs": [],
   "source": [
    "def query_for_player_events(name):\n",
    "    fixed_name = name.replace(\"'\", \"''\")\n",
    "    sql_query = \"\"\"\n",
    "        select player_name, hit_speed, hit_angle, (case \n",
    "        when events='Single' then 1\n",
    "        when events='Double' then 2 \n",
    "        when events='Triple' then 3\n",
    "        when events='Home Run' then 4 \n",
    "        else 0 end) as bases_acquired\n",
    "        from statcast_data_table where hit_speed != 0 and player_name='%s';\"\"\" % fixed_name\n",
    "\n",
    "    player_events_df = pd.read_sql_query(sql_query, con)\n",
    "    return player_events_df"
   ]
  },
  {
   "cell_type": "code",
   "execution_count": 8,
   "metadata": {
    "collapsed": true
   },
   "outputs": [],
   "source": [
    "#some rounding errors on splitting the quarters, but it's ok\n",
    "\n",
    "def create_player_events_subset(df_in, subset):\n",
    "    if subset == 'all':\n",
    "        df_out = df_in\n",
    "    elif subset == 'odd':\n",
    "        df_out = df_in.iloc[1::2]\n",
    "    elif subset == 'even':\n",
    "        df_out = df_in.iloc[::2]\n",
    "    elif subset == 'half1':\n",
    "        half_point = len(df_in)/2\n",
    "        df_out = df_in[:half_point]\n",
    "    elif subset == 'half2':\n",
    "        half_point = len(df_in)/2\n",
    "        df_out = df_in[half_point:]\n",
    "    elif subset == 'q1':\n",
    "        q_point = len(df_in)/4\n",
    "        df_out = df_in[:q_point]\n",
    "    elif subset == 'q2':\n",
    "        q_point = len(df_in)/4\n",
    "        df_out = df_in[q_point:2*q_point]\n",
    "    elif subset == 'q3':\n",
    "        q_point = len(df_in)/4\n",
    "        df_out = df_in[2*q_point:3*q_point]\n",
    "    elif subset == 'q4':\n",
    "        q_point = len(df_in)/4\n",
    "        df_out = df_in[3*q_point:]\n",
    "    \n",
    "    return df_out"
   ]
  },
  {
   "cell_type": "code",
   "execution_count": 9,
   "metadata": {
    "collapsed": true
   },
   "outputs": [],
   "source": [
    "def player_actual_hit_values(player_events_df, subset):\n",
    "    \n",
    "    total_bases = 0.\n",
    "\n",
    "    df_subset = create_player_events_subset(player_events_df, subset)\n",
    "    total_bip = len(df_subset)\n",
    "    \n",
    "    for i in xrange(total_bip): \n",
    "        bases_acquired = df_subset.iloc[i]['bases_acquired']\n",
    "        total_bases += bases_acquired\n",
    "    \n",
    "    return total_bases, total_bip"
   ]
  },
  {
   "cell_type": "code",
   "execution_count": 10,
   "metadata": {
    "collapsed": true
   },
   "outputs": [],
   "source": [
    "def player_hit_type_counts(player_events_df, subset):\n",
    "\n",
    "    hit_type_counts = np.full(k, 0.)\n",
    "\n",
    "    df_subset = create_player_events_subset(player_events_df, subset)\n",
    "    total_bip = len(df_subset)\n",
    "    \n",
    "    for i in xrange(total_bip):\n",
    "    \n",
    "        hit_speed = df_subset.iloc[i]['hit_speed']\n",
    "        hit_angle = df_subset.iloc[i]['hit_angle']\n",
    "        \n",
    "        ball_type = classify_batted_ball(hit_speed, hit_angle, v_range, a_range, num_edges)\n",
    "        hit_type_counts[ball_type] += 1\n",
    "    \n",
    "    return hit_type_counts"
   ]
  },
  {
   "cell_type": "code",
   "execution_count": 11,
   "metadata": {
    "collapsed": true
   },
   "outputs": [],
   "source": [
    "k=7\n",
    "num_edges = 50\n",
    "v_range = [10., 130.]\n",
    "a_range = [-100., 100.]"
   ]
  },
  {
   "cell_type": "code",
   "execution_count": 12,
   "metadata": {
    "collapsed": true
   },
   "outputs": [],
   "source": [
    "def batted_ball_rates_to_df(qualifying_players, subset1, subset2):\n",
    "\n",
    "    hit1 = []\n",
    "    hit2 = []\n",
    "    hit3 = []\n",
    "    hit4 = []\n",
    "    hit5 = []\n",
    "    hit6 = []\n",
    "    hit7 = []\n",
    "\n",
    "    slg1 = []\n",
    "    slg2 = []\n",
    "\n",
    "    for i in xrange(len(qualifying_players)):\n",
    "        name = qualifying_players.iloc[i]['player_name']\n",
    "        player_events_df = query_for_player_events(name)\n",
    "    \n",
    "        #add up value for each hit type in subset1\n",
    "        hit_type_counts = player_hit_type_counts(player_events_df, subset1)\n",
    "        total_bip1 = sum(hit_type_counts)\n",
    "    \n",
    "        hit1.append(hit_type_counts[0]/total_bip1)\n",
    "        hit2.append(hit_type_counts[1]/total_bip1)\n",
    "        hit3.append(hit_type_counts[2]/total_bip1)\n",
    "        hit4.append(hit_type_counts[3]/total_bip1)\n",
    "        hit5.append(hit_type_counts[4]/total_bip1)\n",
    "        hit6.append(hit_type_counts[5]/total_bip1)\n",
    "        hit7.append(hit_type_counts[6]/total_bip1)\n",
    "    \n",
    "        #add up actual production in subset2\n",
    "        total_bases2, total_bip2 = player_actual_hit_values(player_events_df, subset2)\n",
    "        slg2.append(total_bases2/total_bip2)\n",
    "        \n",
    "        if subset1 != subset2:\n",
    "            #add up actual production in subset1\n",
    "            total_bases1, total_bip1 = player_actual_hit_values(player_events_df, subset1)\n",
    "            slg1.append(total_bases1/total_bip1)\n",
    "        else:\n",
    "            slg1.append(total_bases2/total_bip2)\n",
    "            \n",
    "    qualifying_players['hit1'] = hit1\n",
    "    qualifying_players['hit2'] = hit2\n",
    "    qualifying_players['hit3'] = hit3\n",
    "    qualifying_players['hit4'] = hit4\n",
    "    qualifying_players['hit5'] = hit5\n",
    "    qualifying_players['hit6'] = hit6\n",
    "    qualifying_players['hit7'] = hit7\n",
    "    qualifying_players['slg1'] = slg1\n",
    "    qualifying_players['slg2'] = slg2\n",
    "    \n",
    "    return qualifying_players"
   ]
  },
  {
   "cell_type": "code",
   "execution_count": 13,
   "metadata": {
    "collapsed": true
   },
   "outputs": [],
   "source": [
    "qualifying_players = batted_ball_rates_to_df(qualifying_players, 'q1', 'q2')"
   ]
  },
  {
   "cell_type": "code",
   "execution_count": 14,
   "metadata": {
    "collapsed": true
   },
   "outputs": [],
   "source": [
    "X = qualifying_players[['hit1', 'hit2', 'hit3', 'hit4', 'hit5', 'hit6', 'hit7', 'spd', 'pull']]\n",
    "y = qualifying_players['slg2']\n",
    "weights = qualifying_players['total_bip']"
   ]
  },
  {
   "cell_type": "code",
   "execution_count": 15,
   "metadata": {
    "collapsed": false
   },
   "outputs": [
    {
     "data": {
      "text/plain": [
       "0.23261955208902774"
      ]
     },
     "execution_count": 15,
     "metadata": {},
     "output_type": "execute_result"
    }
   ],
   "source": [
    "linreg = LinearRegression()\n",
    "linreg.fit(X, y, sample_weight = weights)\n",
    "linreg.score(X, y, sample_weight = weights)"
   ]
  },
  {
   "cell_type": "code",
   "execution_count": 16,
   "metadata": {
    "collapsed": false
   },
   "outputs": [
    {
     "name": "stdout",
     "output_type": "stream",
     "text": [
      "0.709497263361\n",
      "[-0.37243296  0.95015575 -0.28212953 -0.20476562 -0.54604353  1.19853275\n",
      " -0.74331685  0.00149053  0.32077773]\n"
     ]
    }
   ],
   "source": [
    "#print the intercept and coefficients\n",
    "print(linreg.intercept_)\n",
    "print(linreg.coef_)"
   ]
  },
  {
   "cell_type": "code",
   "execution_count": 16,
   "metadata": {
    "collapsed": false
   },
   "outputs": [],
   "source": [
    "#just each player's first data half as training data\n",
    "#THIS IS FOR VALIDATION\n",
    "\n",
    "#regression run with features from q1, target from q2\n",
    "y_int_q1 = 0.709497263361\n",
    "coeffs_q1 = np.array([-0.37243296, 0.95015575, -0.28212953, -0.20476562, -0.54604353, 1.19853275, -0.7433168, 0.00149053, 0.32077773])\n",
    "\n",
    "#regression run with features from q2, target from q1\n",
    "y_int_q2 = 0.784651521357\n",
    "coeffs_q2 = np.array([-0.52385745, 1.18926581, -0.33161038, -0.47360222, -0.61849924, 1.16567828, -0.4073748, 0.00778816, 0.29302653])\n",
    "\n",
    "#average regression parameters - this is the training model for validation\n",
    "y_int_avg = (y_int_q1 + y_int_q2)/2.\n",
    "coeffs_avg = (coeffs_q1 + coeffs_q2)/2."
   ]
  },
  {
   "cell_type": "code",
   "execution_count": 14,
   "metadata": {
    "collapsed": true
   },
   "outputs": [],
   "source": [
    "qualifying_players = batted_ball_rates_to_df(qualifying_players, 'half1', 'half2')"
   ]
  },
  {
   "cell_type": "code",
   "execution_count": 17,
   "metadata": {
    "collapsed": true
   },
   "outputs": [],
   "source": [
    "X = qualifying_players[['hit1', 'hit2', 'hit3', 'hit4', 'hit5', 'hit6', 'hit7', 'spd', 'pull']]\n",
    "y = qualifying_players['slg2']\n",
    "weights = qualifying_players['total_bip']"
   ]
  },
  {
   "cell_type": "code",
   "execution_count": 18,
   "metadata": {
    "collapsed": false
   },
   "outputs": [],
   "source": [
    "#uses averaged coefficients from cell to give predicted slg based on each player's first half\n",
    "#run on subset1 = half1, subset2 = half2, gives predicted slg and luck based only on half1-derived model\n",
    "y_pred_half1 = y_int_avg + X['hit1'].values*coeffs_avg[0] + X['hit2'].values*coeffs_avg[1] + X['hit3'].values*coeffs_avg[2] + \\\n",
    "X['hit4'].values*coeffs_avg[3] + X['hit5'].values*coeffs_avg[4] + X['hit6'].values*coeffs_avg[5] + \\\n",
    "X['hit7'].values*coeffs_avg[6] + X['spd'].values*coeffs_avg[7] + X['pull'].values*coeffs_avg[8]"
   ]
  },
  {
   "cell_type": "code",
   "execution_count": 92,
   "metadata": {
    "collapsed": false
   },
   "outputs": [
    {
     "name": "stdout",
     "output_type": "stream",
     "text": [
      "0.35555717885\n",
      "(0.87530013700703191, -0.0025451352921208774)\n"
     ]
    },
    {
     "data": {
      "image/png": "[encoded data removed]",
      "text/plain": [
       "<matplotlib.figure.Figure at 0x11507fcd0>"
      ]
     },
     "metadata": {},
     "output_type": "display_data"
    }
   ],
   "source": [
    "slg_half1 = qualifying_players['slg1']\n",
    "slg_half2 = qualifying_players['slg2']\n",
    "luck_half1 = slg_half1 - y_pred_half1\n",
    "\n",
    "#improvement from half1 to half2\n",
    "improvement = np.array(slg_half2)-np.array(slg_half1)\n",
    "\n",
    "slope_fit, y_int_fit, r_value, p_value, std_err = stats.linregress(-luck_half1, improvement)\n",
    "\n",
    "x = np.arange(-0.6, 0.5, 0.1)\n",
    "plt.xlabel('Improvement predicted by luck', fontsize=24)\n",
    "plt.ylabel('Actual Improvement', fontsize=24)\n",
    "plt.ylim(-.6,.4)\n",
    "plt.xlim(-.6,.4)\n",
    "plt.xticks(fontsize=16)\n",
    "plt.yticks(fontsize=16)\n",
    "\n",
    "plt.plot(-luck_half1, improvement, '.')\n",
    "#plt.plot(x, slope_fit*x + y_int_fit, 'k-')\n",
    "plt.plot(x, x, 'k--')\n",
    "print (r_value**2)\n",
    "print(slope_fit, y_int_fit)"
   ]
  },
  {
   "cell_type": "code",
   "execution_count": 21,
   "metadata": {
    "collapsed": false
   },
   "outputs": [
    {
     "data": {
      "text/plain": [
       "(array([  6.,  13.,  26.,  51.,  85.,  95.,  68.,  42.,  17.,   3.]),\n",
       " array([-0.29091365, -0.23433141, -0.17774917, -0.12116692, -0.06458468,\n",
       "        -0.00800244,  0.0485798 ,  0.10516205,  0.16174429,  0.21832653,\n",
       "         0.27490878]),\n",
       " <a list of 10 Patch objects>)"
      ]
     },
     "execution_count": 21,
     "metadata": {},
     "output_type": "execute_result"
    },
    {
     "data": {
      "image/png": "[encoded data removed]",
      "text/plain": [
       "<matplotlib.figure.Figure at 0x113333590>"
      ]
     },
     "metadata": {},
     "output_type": "display_data"
    }
   ],
   "source": [
    "plt.hist(-luck_half1-improvement)"
   ]
  },
  {
   "cell_type": "code",
   "execution_count": 27,
   "metadata": {
    "collapsed": false
   },
   "outputs": [
    {
     "name": "stdout",
     "output_type": "stream",
     "text": [
      "0.0840433443583\n"
     ]
    }
   ],
   "source": [
    "stdev = np.std(luck_half1)\n",
    "print(stdev)\n",
    "unlucky = luck_half1.values[np.where(luck_half1 < -stdev)]"
   ]
  },
  {
   "cell_type": "code",
   "execution_count": 28,
   "metadata": {
    "collapsed": false
   },
   "outputs": [],
   "source": [
    "ix = np.in1d(luck_half1.ravel(), unlucky).reshape(luck_half1.shape)\n",
    "improvement_of_unlucky = improvement[np.where(ix)]"
   ]
  },
  {
   "cell_type": "code",
   "execution_count": 29,
   "metadata": {
    "collapsed": false
   },
   "outputs": [
    {
     "data": {
      "text/plain": [
       "(array([ 3.,  6.,  6.,  7.,  9.,  9.,  6.,  5.,  3.,  2.]),\n",
       " array([-0.08565244, -0.04659939, -0.00754634,  0.0315067 ,  0.07055975,\n",
       "         0.1096128 ,  0.14866585,  0.1877189 ,  0.22677195,  0.265825  ,\n",
       "         0.30487805]),\n",
       " <a list of 10 Patch objects>)"
      ]
     },
     "execution_count": 29,
     "metadata": {},
     "output_type": "execute_result"
    },
    {
     "data": {
      "image/png": "[encoded data removed]",
      "text/plain": [
       "<matplotlib.figure.Figure at 0x113a9de90>"
      ]
     },
     "metadata": {},
     "output_type": "display_data"
    }
   ],
   "source": [
    "plt.hist(improvement_of_unlucky)"
   ]
  },
  {
   "cell_type": "code",
   "execution_count": 30,
   "metadata": {
    "collapsed": false
   },
   "outputs": [
    {
     "data": {
      "text/plain": [
       "56"
      ]
     },
     "execution_count": 30,
     "metadata": {},
     "output_type": "execute_result"
    }
   ],
   "source": [
    "len(improvement_of_unlucky)"
   ]
  },
  {
   "cell_type": "code",
   "execution_count": 54,
   "metadata": {
    "collapsed": false
   },
   "outputs": [
    {
     "data": {
      "text/plain": [
       "0.16071428571428573"
      ]
     },
     "execution_count": 54,
     "metadata": {},
     "output_type": "execute_result"
    }
   ],
   "source": [
    "float(len(np.where(improvement_of_unlucky<0)[0]))/len(improvement_of_unlucky)"
   ]
  },
  {
   "cell_type": "code",
   "execution_count": 84,
   "metadata": {
    "collapsed": false
   },
   "outputs": [
    {
     "name": "stdout",
     "output_type": "stream",
     "text": [
      "0.21641776756\n",
      "(0.45420952858808955, -0.0042865652086985923)\n"
     ]
    },
    {
     "data": {
      "image/png": "[encoded data removed]",
      "text/plain": [
       "<matplotlib.figure.Figure at 0x117053590>"
      ]
     },
     "metadata": {},
     "output_type": "display_data"
    }
   ],
   "source": [
    "deviation_from_mean = slg_half1 - np.average(slg_half1) \n",
    "\n",
    "slope_fit, y_int_fit, r_value, p_value, std_err = stats.linregress(-deviation_from_mean, improvement)\n",
    "\n",
    "x = np.arange(-0.6, 0.5, 0.1)\n",
    "plt.xlabel('Improvement predicted by regression to mean', fontsize=24)\n",
    "plt.ylabel('Actual Improvement', fontsize=24)\n",
    "plt.ylim(-.6,.4)\n",
    "plt.xlim(-.6,.4)\n",
    "plt.xticks(fontsize=16)\n",
    "plt.yticks(fontsize=16)\n",
    "\n",
    "plt.plot(-deviation_from_mean, improvement, '.')\n",
    "#plt.plot(x, slope_fit*x + y_int_fit, 'k-')#\n",
    "plt.plot(x, x, 'k--')\n",
    "print (r_value**2)\n",
    "print(slope_fit, y_int_fit)"
   ]
  },
  {
   "cell_type": "code",
   "execution_count": 115,
   "metadata": {
    "collapsed": false
   },
   "outputs": [
    {
     "name": "stdout",
     "output_type": "stream",
     "text": [
      "0.0996165271166\n",
      "0.129230103302\n"
     ]
    }
   ],
   "source": [
    "from sklearn import metrics\n",
    "\n",
    "print np.sqrt(metrics.mean_squared_error(-luck_half1, improvement))\n",
    "print np.sqrt(metrics.mean_squared_error(-deviation_from_mean, improvement))"
   ]
  },
  {
   "cell_type": "code",
   "execution_count": null,
   "metadata": {
    "collapsed": true
   },
   "outputs": [],
   "source": []
  }
 ],
 "metadata": {
  "kernelspec": {
   "display_name": "Python 2",
   "language": "python",
   "name": "python2"
  },
  "language_info": {
   "codemirror_mode": {
    "name": "ipython",
    "version": 2
   },
   "file_extension": ".py",
   "mimetype": "text/x-python",
   "name": "python",
   "nbconvert_exporter": "python",
   "pygments_lexer": "ipython2",
   "version": "2.7.11"
  }
 },
 "nbformat": 4,
 "nbformat_minor": 0
}
